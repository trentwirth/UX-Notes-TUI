{
 "cells": [
  {
   "cell_type": "code",
   "execution_count": 50,
   "metadata": {},
   "outputs": [],
   "source": [
    "from mdutils.mdutils import MdUtils\n",
    "import csv\n",
    "from pathlib import Path\n",
    "import os\n",
    "\n",
    "def write_md_file_from_csv(csv_file, csv_file_name):\n",
    "    markdown_file = MdUtils(file_name=csv_file_name, title=csv_file_name)\n",
    "\n",
    "    with open(csv_file, newline='') as csv_file_to_be_read:\n",
    "\n",
    "        csv_list = list(csv.reader(csv_file_to_be_read, delimiter=','))\n",
    "\n",
    "        for sub_list in csv_list:\n",
    "            \n",
    "            markdown_file.new_line(str(sub_list[1]))\n",
    "\n",
    "            markdown_file.new_line(str(sub_list[2]) + \"\\n\")\n",
    "\n",
    "    markdown_file.create_md_file()\n",
    "\n",
    "\n",
    "\n",
    "csv_file = r\"C:\\\\Users\\\\Trent\\\\timescriber_output\\\\2023-01-20_FreeMoCap_Meeting_Minutes.csv\"\n",
    "csv_file_name = \"2023-01-20_FreeMoCap_Meeting_Minutes\"\n",
    "\n",
    "os.chdir(Path(r\"C:\\\\Users\\\\Trent\\\\timescriber_output\"))\n",
    "\n",
    "write_md_file_from_csv(csv_file, csv_file_name)"
   ]
  }
 ],
 "metadata": {
  "kernelspec": {
   "display_name": "tui-forge",
   "language": "python",
   "name": "python3"
  },
  "language_info": {
   "codemirror_mode": {
    "name": "ipython",
    "version": 3
   },
   "file_extension": ".py",
   "mimetype": "text/x-python",
   "name": "python",
   "nbconvert_exporter": "python",
   "pygments_lexer": "ipython3",
   "version": "3.10.9"
  },
  "orig_nbformat": 4,
  "vscode": {
   "interpreter": {
    "hash": "341c9c7764f2d4993a2e6331e98409f187a5c166671d6deda56104b36732a476"
   }
  }
 },
 "nbformat": 4,
 "nbformat_minor": 2
}
